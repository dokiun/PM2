{
  "nbformat": 4,
  "nbformat_minor": 0,
  "metadata": {
    "colab": {
      "provenance": []
    },
    "kernelspec": {
      "name": "python3",
      "display_name": "Python 3"
    },
    "language_info": {
      "name": "python"
    }
  },
  "cells": [
    {
      "cell_type": "code",
      "source": [
        "import numpy as np\n",
        "\n",
        "# -------------------------------------------------------------\n",
        "# Script: Taladrado_y_Torneado.ipynb\n",
        "# Curso : Procesos de Manufactura II (PM2)\n",
        "# Autor : dokiun\n",
        "# Fecha : 2025-09-13\n",
        "# Nota  : Basado en las diapositivas presentadas en clase.\n",
        "#-------------------------------------------------------------"
      ],
      "metadata": {
        "id": "6Qp6715xvOtA"
      },
      "execution_count": 17,
      "outputs": []
    },
    {
      "cell_type": "markdown",
      "source": [
        "# Taladrado"
      ],
      "metadata": {
        "id": "UdLpOFoBucoQ"
      }
    },
    {
      "cell_type": "code",
      "execution_count": 18,
      "metadata": {
        "colab": {
          "base_uri": "https://localhost:8080/"
        },
        "id": "mnjuFp6luSi_",
        "outputId": "7f555d50-e729-433c-897e-d16aba23d2e2"
      },
      "outputs": [
        {
          "output_type": "stream",
          "name": "stdout",
          "text": [
            "n = 1260.51 rev/min\n",
            "Vf = 88.24 mm/min\n",
            "z_w = 43312.50 mm^3/min\n",
            "fz = 0.0700 mm\n",
            "ac = 0.06996 mm\n",
            "kc = 3553.44 N/mm^2\n",
            "Pc = 2.56514 kW\n",
            "Mc = 19.43288 N·m\n",
            "Ff = 1553.68 N\n"
          ]
        }
      ],
      "source": [
        "# ---------------- Parámetros de material ----------------\n",
        "kc1 = 2150.0   # N/mm^2 (fuerza específica normalizada)\n",
        "mc  = 0.25     # exponente\n",
        "y0  = 15.0     # ángulo de desprendimiento [°]\n",
        "\n",
        "# ---------------- Inputs de proceso ---------------------\n",
        "Dc  = 25.0     # mm, diámetro de la broca\n",
        "Vc  = 99.0     # m/min, velocidad de corte\n",
        "fn  = 0.07     # mm/rev, avance por revolución\n",
        "kr  = 88.0     # °, ángulo de posición efectivo\n",
        "\n",
        "# --------- 1) Velocidad de rotación ---------------------\n",
        "n = (Vc * 1000.0) / (np.pi * Dc)     # rev/min\n",
        "\n",
        "# --------- 2) Velocidad de avance -----------------------\n",
        "Vf = fn * n                          # mm/min\n",
        "\n",
        "# --------- 3) Tasa de arranque de material --------------\n",
        "# Área de la sección del agujero * velocidad de avance\n",
        "z_w = (np.pi * Dc**2 / 4.0) * Vf     # mm^3/min\n",
        "\n",
        "# --------- 4) Avance por diente (taladro = 1 filo activo) ----\n",
        "fz = fn / 1.0                        # mm/diente\n",
        "\n",
        "# --------- 5) Espesor máximo de viruta ------------------\n",
        "ac = fz * np.sin(np.deg2rad(kr))     # mm\n",
        "\n",
        "# --------- 6) Fuerza específica de corte ----------------\n",
        "kc = kc1 * (ac**(-mc)) * (1.0 - y0/100.0)   # N/mm^2\n",
        "\n",
        "# --------- 7) Potencia de corte -------------------------\n",
        "Pc = (kc * fn * Dc * Vc) / 240e3     # kW\n",
        "\n",
        "# --------- 8) Par de corte ------------------------------\n",
        "Mc = (Pc * 30e3) / (np.pi * n)       # N·m\n",
        "\n",
        "# --------- 9) Fuerza de avance aproximada ---------------\n",
        "Ff = 0.5 * kc * (Dc/2.0) * fn * np.sin(np.deg2rad(kr))   # N\n",
        "\n",
        "# --------- Resultados -----------------------------------\n",
        "print(f\"n = {n:.2f} rev/min\")\n",
        "print(f\"Vf = {Vf:.2f} mm/min\")\n",
        "print(f\"z_w = {z_w:.2f} mm^3/min\")\n",
        "print(f\"fz = {fz:.4f} mm\")\n",
        "print(f\"ac = {ac:.5f} mm\")\n",
        "print(f\"kc = {kc:.2f} N/mm^2\")\n",
        "print(f\"Pc = {Pc:.5f} kW\")\n",
        "print(f\"Mc = {Mc:.5f} N·m\")\n",
        "print(f\"Ff = {Ff:.2f} N\")\n"
      ]
    },
    {
      "cell_type": "markdown",
      "source": [
        "# Torneado"
      ],
      "metadata": {
        "id": "iseO9A5iutZv"
      }
    },
    {
      "cell_type": "code",
      "source": [
        "# ---------------- Parámetros de material (modelo Kienzle) ---------------\n",
        "kc1 = 4330.0   # N/mm^2 (fuerza específica normalizada)\n",
        "mc  = 0.25     # exponente\n",
        "y0  = -2.0     # °, ángulo de desprendimiento (rake). Negativo => factor > 1\n",
        "\n",
        "# ---------------- Inputs de proceso (torneado) ---------------------------\n",
        "dw  = 84.0     # mm, diámetro de la pieza\n",
        "ap  = 0.85     # mm, profundidad de pasada (radial)\n",
        "Vc  = 340.0    # m/min, velocidad de corte\n",
        "fn  = 0.07     # mm/rev, avance por revolución\n",
        "kr  = 85.0     # °, ángulo de posición del filo (con la dirección de avance)\n",
        "\n",
        "# --------- 1) Velocidad de rotación --------------------------------------\n",
        "n = (Vc * 1000.0) / (np.pi * dw)          # rev/min\n",
        "\n",
        "# --------- 2) Velocidad de avance axial ----------------------------------\n",
        "Vf = fn * n                                # mm/min\n",
        "\n",
        "# --------- 3) Espesor máx. de viruta (geométrico) ------------------------\n",
        "# Modelo simple: a_c,max ~ f * sin(kappa_r)\n",
        "ac = fn * np.sin(np.deg2rad(kr))           # mm\n",
        "\n",
        "# --------- 4) Fuerza específica de corte ---------------------------------\n",
        "# k_c = k_c1 * a_c^(-m_c) * (1 - gamma/100)\n",
        "kc = kc1 * (ac ** (-mc)) * (1.0 - y0/100.0)   # N/mm^2\n",
        "\n",
        "# --------- 5) Área de viruta no deformada (ortogonal) --------------------\n",
        "# En torneado cilíndrico: A_c ≈ ap * f   [mm^2]\n",
        "Ac = ap * fn                               # mm^2\n",
        "\n",
        "# --------- 6) Fuerza de corte principal ----------------------------------\n",
        "Fc = kc * Ac                               # N\n",
        "\n",
        "# --------- 7) Potencia de corte ------------------------------------------\n",
        "# Pc[kW] = Fc[N] * Vc[m/min] / 60,000\n",
        "Pc = (Fc * Vc) / 60_000.0                  # kW\n",
        "\n",
        "# --------- 8) Par en el husillo ------------------------------------------\n",
        "# M[N·m] = 9550 * Pc[kW] / n[rpm]\n",
        "Mc = (9550.0 * Pc) / n                      # N·m\n",
        "\n",
        "# --------- (opcionales) tiempos: si tienes longitud Lw -------------------\n",
        "# Lw = ...  # mm  (longitud a tornear)\n",
        "# tm = Lw / Vf  # min\n",
        "\n",
        "# --------- Resultados ----------------------------------------------------\n",
        "print(f\"n  = {n:.2f} rev/min\")\n",
        "print(f\"Vf = {Vf:.2f} mm/min\")\n",
        "print(f\"ac = {ac:.5f} mm\")\n",
        "print(f\"kc = {kc:.2f} N/mm^2\")\n",
        "print(f\"Ac = {Ac:.5f} mm^2\")\n",
        "print(f\"Fc = {Fc:.2f} N\")\n",
        "print(f\"Pc = {Pc:.5f} kW\")\n",
        "print(f\"Mc = {Mc:.5f} N·m\")\n",
        "# print(f\"tm = {tm:.3f} min\")  # si defines Lw\n"
      ],
      "metadata": {
        "colab": {
          "base_uri": "https://localhost:8080/"
        },
        "id": "4Q71JX3kunAj",
        "outputId": "2ff2f8f8-5494-413a-902a-69ae75a73fcc"
      },
      "execution_count": 19,
      "outputs": [
        {
          "output_type": "stream",
          "name": "stdout",
          "text": [
            "n  = 1288.40 rev/min\n",
            "Vf = 90.19 mm/min\n",
            "ac = 0.06973 mm\n",
            "kc = 8594.64 N/mm^2\n",
            "Ac = 0.05950 mm^2\n",
            "Fc = 511.38 N\n",
            "Pc = 2.89782 kW\n",
            "Mc = 21.47958 N·m\n"
          ]
        }
      ]
    }
  ]
}